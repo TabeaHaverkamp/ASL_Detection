{
 "cells": [
  {
   "cell_type": "code",
   "execution_count": 22,
   "metadata": {},
   "outputs": [],
   "source": [
    "import cv2 as cv\n",
    "import numpy as np\n",
    "import sklearn as skl\n",
    "import scipy as cp\n",
    "import matplotlib.pyplot as plt\n",
    "import tensorflow as tn\n",
    "import torch as pt\n",
    "import os\n",
    "import csv\n",
    "import pandas as pd\n",
    "from sklearn.preprocessing import LabelBinarizer\n",
    "from sklearn.model_selection import train_test_split\n",
    "from sklearn.svm import LinearSVC\n",
    "from sklearn.calibration import CalibratedClassifierCV\n",
    "from sklearn.multiclass import OneVsRestClassifier\n",
    "from sklearn.discriminant_analysis import QuadraticDiscriminantAnalysis, LinearDiscriminantAnalysis\n",
    "from sklearn.ensemble import RandomForestClassifier\n",
    "from sklearn import tree\n",
    "from sklearn import manifold, neighbors, metrics"
   ]
  },
  {
   "cell_type": "code",
   "execution_count": null,
   "metadata": {},
   "outputs": [],
   "source": [
    "\n",
    "currentLocation = os.getcwd()\n",
    "path = currentLocation + '/data/sign_mnist_train.csv'\n",
    "train = pd.read_csv(path)\n",
    "#train.head()\n",
    "labels = train['label'].values\n",
    "unique_val = np.array(labels)\n",
    "np.unique(unique_val)\n",
    "label_binrizer = LabelBinarizer()\n",
    "labels = label_binrizer.fit_transform(labels)\n",
    "train.drop('label', axis = 1, inplace = True)\n",
    "images = train.values"
   ]
  },
  {
   "cell_type": "code",
   "execution_count": null,
   "metadata": {},
   "outputs": [],
   "source": [
    "#plt.style.use('rgb')\n",
    "fig, axs = plt.subplots(1, 5, figsize=(15, 4), sharey=True)\n",
    "for i in range(5): \n",
    "        axs[i].imshow(images[i].reshape(28,28))\n",
    "fig.suptitle('Grayscale images')"
   ]
  },
  {
   "cell_type": "code",
   "execution_count": null,
   "metadata": {},
   "outputs": [],
   "source": [
    "x_train, x_test, y_train, y_test = train_test_split(images, labels, test_size = 0.3, stratify = labels, random_state = 7)"
   ]
  },
  {
   "cell_type": "code",
   "execution_count": null,
   "metadata": {},
   "outputs": [],
   "source": [
    "dt = tree.DecisionTreeClassifier()#Create model\n",
    "dt.fit(x_train,y_train) #Train model"
   ]
  },
  {
   "cell_type": "code",
   "execution_count": null,
   "metadata": {},
   "outputs": [],
   "source": [
    "\n",
    "prediction = dt.predict(x_test) #Do prediction on test data\n",
    "accuracy = metrics.accuracy_score(y_test, prediction) #Calculate accuracy from predictions\n",
    "print(\"\\n Accuracy: %f\",accuracy)\n",
    "print(\"\\n Results from classifier:  \\n %s \\n\" %( metrics.classification_report(y_test, prediction)))\n",
    "print(\"\\n Confussion matrix:\\n %s\" % metrics.confusion_matrix(y_test, prediction)) #PRint confusion matrix\n",
    "#cnf_matrix = confusion_matrix(testLabels, prediction) #create matrix for plotting\n",
    "#plot_confusion_matrix(cnf_matrix, classes=keys, title='Normalized confusion matrix')\n",
    "kfold = 10\n",
    "scores = cross_val_score(dt, images , labels, cv=10) #Do cross validation\n",
    "print(\"\\n Cross validation score: \\n\")\n",
    "print(scores) #Report scores of cross validation\n",
    "print(\"\\n Mean cv score: %f\", np.mean(scores))"
   ]
  },
  {
   "cell_type": "code",
   "execution_count": null,
   "metadata": {},
   "outputs": [],
   "source": [
    "prediction = dt.predict(x_test) #Do prediction on test data\n",
    "accuracy = metrics.accuracy_score(y_test, prediction) #Calculate accuracy from predictions\n",
    "print(\"\\n Accuracy: %f\",accuracy)\n",
    "print(\"\\n Results from classifier:  \\n %s \\n\" %( metrics.classification_report(y_test, prediction)))\n",
    "#print(\"\\n Confussion matrix:\\n %s\" % metrics.confusion_matrix(y_test, prediction)) #PRint confusion matrix\n",
    "#cnf_matrix = confusion_matrix(testLabels, prediction) #create matrix for plotting\n",
    "#plot_confusion_matrix(cnf_matrix, classes=keys, title='Normalized confusion matrix')\n",
    "#kfold = 10\n",
    "#scores = cross_val_score(dt, images , labels, cv=10) #Do cross validation\n",
    "#print(\"\\n Cross validation score: \\n\")\n",
    "#print(scores) #Report scores of cross validation\n",
    "#print(\"\\n Mean cv score: %f\", np.mean(scores))"
   ]
  }
 ],
 "metadata": {
  "kernelspec": {
   "display_name": "Python 3",
   "language": "python",
   "name": "python3"
  },
  "language_info": {
   "codemirror_mode": {
    "name": "ipython",
    "version": 3
   },
   "file_extension": ".py",
   "mimetype": "text/x-python",
   "name": "python",
   "nbconvert_exporter": "python",
   "pygments_lexer": "ipython3",
   "version": "3.7.6"
  }
 },
 "nbformat": 4,
 "nbformat_minor": 2
}

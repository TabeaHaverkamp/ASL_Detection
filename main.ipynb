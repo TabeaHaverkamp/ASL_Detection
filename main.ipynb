{
 "cells": [
  {
   "cell_type": "code",
   "execution_count": null,
   "metadata": {},
   "outputs": [],
   "source": [
    "import cv2 as cv\n",
    "import numpy as np\n",
    "import sklearn as skl\n",
    "import scipy as cp\n",
    "import matplotlib.pyplot as plt\n",
    "import tensorflow as tn\n",
    "import torch as pt\n",
    "import os\n"
   ]
  },
  {
   "cell_type": "code",
   "execution_count": null,
   "metadata": {},
   "outputs": [],
   "source": [
    "def adjustGamma(image, gamma = 1.0):\n",
    "    invGamma = 1/gamma\n",
    "    table = np.array([((i/255.0)**invGamma)*255\n",
    "        for i in np.arange(0,256)]).astype(\"uint8\")\n",
    "    return cv.LUT(image,table)\n",
    "\n",
    "\n",
    "    \n",
    "    "
   ]
  },
  {
   "cell_type": "code",
   "execution_count": 5,
   "metadata": {},
   "outputs": [
    {
     "name": "stdout",
     "output_type": "stream",
     "text": [
      "148.97757499999997\n",
      "113.71845000000002\n",
      "92.52365\n",
      "190.656925\n"
     ]
    }
   ],
   "source": [
    "#Load images\n",
    "currentLocation = os.getcwd()\n",
    "imgBright = cv.imread(currentLocation + '/data/aBright.jpg')\n",
    "imgDark = cv.imread(currentLocation + '/data/aDark.jpg')\n",
    "imgSilhouette =  cv.imread(currentLocation + '/data/aSilhouette.jpg')\n",
    "imgTopBright = cv.imread(currentLocation + '/data/aTopBright.jpg')\n",
    "\n",
    "\n",
    "#blur = cv.GaussianBlur(imgSilhouette,(4,4),0)\n",
    "edges = cv.Canny(imgSilhouette,100,200)\n",
    "cv.imshow('Stacked', imgSilhouette)\n",
    "cv.waitKey(0)\n",
    "cv.destroyAllWindows()\n",
    "\n",
    "\n",
    "#Convert to grayscale\n",
    "grayBright = cv.cvtColor(imgBright, cv.COLOR_BGR2GRAY)\n",
    "average = grayBright.mean(axis=0).mean(axis=0)\n",
    "print(average)\n",
    "grayDark = cv.cvtColor(imgDark, cv.COLOR_BGR2GRAY)\n",
    "average = grayDark.mean(axis=0).mean(axis=0)\n",
    "print(average)\n",
    "graySilhouette = cv.cvtColor(imgSilhouette, cv.COLOR_BGR2GRAY)\n",
    "graySilhouette2 = adjustGamma(graySilhouette,gamma = 5)\n",
    "loadedImages = np.vstack((graySilhouette,graySilhouette2))\n",
    "average = graySilhouette.mean(axis=0).mean(axis=0)\n",
    "print(average)\n",
    "average = graySilhouette2.mean(axis=0).mean(axis=0)\n",
    "print(average)\n",
    "#grayTopBright = cv.cvtColor(imgTopBright, cv.COLOR_BGR2GRAY)\n",
    "loadedImages = np.vstack((graySilhouette,graySilhouette2))\n",
    "cv.imshow('Stacked', loadedImages)\n",
    "cv.waitKey(0)\n",
    "cv.destroyAllWindows()\n",
    "#stack images for showing\n",
    "#res1 = np.hstack((grayBright,grayDark))\n",
    "#res2 = np.hstack((graySilhouette,grayTopBright))\n",
    "#loadedImagesGrayUnEqu = np.hstack((res1,res2))\n"
   ]
  },
  {
   "cell_type": "code",
   "execution_count": 6,
   "metadata": {},
   "outputs": [
    {
     "ename": "NameError",
     "evalue": "name 'blur' is not defined",
     "output_type": "error",
     "traceback": [
      "\u001b[1;31m---------------------------------------------------------------------------\u001b[0m",
      "\u001b[1;31mNameError\u001b[0m                                 Traceback (most recent call last)",
      "\u001b[1;32m<ipython-input-6-c8e178dda5a1>\u001b[0m in \u001b[0;36m<module>\u001b[1;34m\u001b[0m\n\u001b[0;32m      1\u001b[0m \u001b[0mgrayBright\u001b[0m \u001b[1;33m=\u001b[0m \u001b[0madjustGamma\u001b[0m\u001b[1;33m(\u001b[0m\u001b[0mgrayBright\u001b[0m\u001b[1;33m,\u001b[0m\u001b[0mgamma\u001b[0m \u001b[1;33m=\u001b[0m \u001b[1;36m1\u001b[0m\u001b[1;33m)\u001b[0m\u001b[1;33m\u001b[0m\u001b[1;33m\u001b[0m\u001b[0m\n\u001b[0;32m      2\u001b[0m \u001b[1;31m#blur = cv.GaussianBlur(grayBright,(5,5),0)\u001b[0m\u001b[1;33m\u001b[0m\u001b[1;33m\u001b[0m\u001b[1;33m\u001b[0m\u001b[0m\n\u001b[1;32m----> 3\u001b[1;33m \u001b[0medges\u001b[0m \u001b[1;33m=\u001b[0m \u001b[0mcv\u001b[0m\u001b[1;33m.\u001b[0m\u001b[0mCanny\u001b[0m\u001b[1;33m(\u001b[0m\u001b[0mblur\u001b[0m\u001b[1;33m,\u001b[0m\u001b[1;36m100\u001b[0m\u001b[1;33m,\u001b[0m\u001b[1;36m200\u001b[0m\u001b[1;33m)\u001b[0m\u001b[1;33m\u001b[0m\u001b[1;33m\u001b[0m\u001b[0m\n\u001b[0m\u001b[0;32m      4\u001b[0m \u001b[0mloadedImages\u001b[0m \u001b[1;33m=\u001b[0m \u001b[0mnp\u001b[0m\u001b[1;33m.\u001b[0m\u001b[0mvstack\u001b[0m\u001b[1;33m(\u001b[0m\u001b[1;33m(\u001b[0m\u001b[0mgrayBright\u001b[0m\u001b[1;33m,\u001b[0m\u001b[0medges\u001b[0m\u001b[1;33m)\u001b[0m\u001b[1;33m)\u001b[0m\u001b[1;33m\u001b[0m\u001b[1;33m\u001b[0m\u001b[0m\n\u001b[0;32m      5\u001b[0m \u001b[0mcv\u001b[0m\u001b[1;33m.\u001b[0m\u001b[0mimshow\u001b[0m\u001b[1;33m(\u001b[0m\u001b[1;34m'Stacked'\u001b[0m\u001b[1;33m,\u001b[0m \u001b[0mgrayBright\u001b[0m\u001b[1;33m)\u001b[0m\u001b[1;33m\u001b[0m\u001b[1;33m\u001b[0m\u001b[0m\n",
      "\u001b[1;31mNameError\u001b[0m: name 'blur' is not defined"
     ]
    }
   ],
   "source": [
    "grayBright = adjustGamma(grayBright,gamma = 1)\n",
    "#blur = cv.GaussianBlur(grayBright,(5,5),0)\n",
    "edges = cv.Canny(blur,100,200)\n",
    "loadedImages = np.vstack((grayBright,edges))\n",
    "cv.imshow('Stacked', grayBright)\n",
    "cv.waitKey(0)\n",
    "cv.destroyAllWindows()"
   ]
  },
  {
   "cell_type": "code",
   "execution_count": null,
   "metadata": {},
   "outputs": [],
   "source": [
    "#Adjust gamma, current idea is to do for every image \n",
    "# TO DO test really bright image\n",
    "#       Come up with way to automatically determine which images need to have increased gamma\n",
    "#                Solution idea increase if average pixel value is too low\n",
    "grayDark = adjustGamma(grayDark,gamma = 3)\n",
    "graySilhouette = adjustGamma(graySilhouette,gamma = 3)\n",
    "grayTopBright = adjustGamma(grayTopBright,gamma = 3)\n",
    "grayBright = adjustGamma(grayBright,gamma = 3)"
   ]
  },
  {
   "cell_type": "code",
   "execution_count": null,
   "metadata": {},
   "outputs": [],
   "source": [
    "#Equalize histogram\n",
    "equBright = cv.equalizeHist(grayBright)\n",
    "equDark = cv.equalizeHist(grayDark)\n",
    "equSilhouette = cv.equalizeHist(graySilhouette)\n",
    "equTopBright = cv.equalizeHist(grayTopBright)"
   ]
  },
  {
   "cell_type": "code",
   "execution_count": null,
   "metadata": {},
   "outputs": [],
   "source": [
    "#Stack images for showing\n",
    "res1 = np.hstack((grayBright,grayDark))\n",
    "res2 = np.hstack((graySilhouette,grayTopBright))\n",
    "loadedImagesGrayEqu = np.hstack((res1,res2))\n",
    "\n",
    "loadedImages = np.vstack((loadedImagesGrayUnEqu,loadedImagesGrayEqu))\n",
    "cv.imshow('Stacked', loadedImages)\n",
    "cv.waitKey(0)\n",
    "cv.destroyAllWindows()"
   ]
  },
  {
   "cell_type": "code",
   "execution_count": null,
   "metadata": {},
   "outputs": [],
   "source": [
    "#Thresholding to find hand\n",
    "\n",
    "\n",
    "loadedImages = np.vstack((loadedImages,loadedImagesBinary))\n",
    "cv.imshow('Stacked', loadedImages)\n",
    "cv.waitKey(0)\n",
    "cv.destroyAllWindows()"
   ]
  },
  {
   "cell_type": "code",
   "execution_count": null,
   "metadata": {},
   "outputs": [],
   "source": []
  }
 ],
 "metadata": {
  "kernelspec": {
   "display_name": "Python 3",
   "language": "python",
   "name": "python3"
  }
 },
 "nbformat": 4,
 "nbformat_minor": 2
}
